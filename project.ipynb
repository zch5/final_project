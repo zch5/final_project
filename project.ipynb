{
 "cells": [
  {
   "cell_type": "markdown",
   "metadata": {},
   "source": [
    "# Commie Panda Squad - CMPINF0010 Final Project"
   ]
  },
  {
   "cell_type": "markdown",
   "metadata": {},
   "source": [
    "![Alt Text](https://media.giphy.com/media/KXrMnyN6GJF07ckpDM/giphy.gif)\n",
    "\n",
    "While considering what data tables to use to best determine the \"bestest\" neighborhood in Pittsburgh, we decided, as the Commie Panda Sqaud, that the communist neighborhoods are always better than the neighborhoods lacking communism. To do this, we looked at examples of the most superior communist states of the current and the past. This included the Soviet Union ☭, People's Republic of China, and Democratic People's Republic of Korea. While looking at these states, we found one commonality: incredibly well-built and reliable infrastructure. This became the basis for our search of the best neighborhood in Pittsburgh. After this our group needed to what data sets to use. To do this we had to decide what the most superior types of infrastructure are. Our first choice was baseball fields, and they give a sense of community, rovide a place for the youth and adults to connect with the sport that is America's pastime, as well as preparing our youth for future military training. In addition to baseball fields our group chose bridges. Bridges serve as protection from incoming missle attacks as well as provide beautiful infastructure that helps to boast the wealth of communism."
   ]
  },
  {
   "cell_type": "markdown",
   "metadata": {},
   "source": [
    "First, lets import the pandas and the pyplot for matplotlib. Next, lets read in both data sets. First we will read in the playing fields data set. Since it is a csv we can just use pd.read_csv to read it in. We will then make a dictionary for the playing fields data set. This will help us later as we go to read in the data. Now, lets repeat the process for the bridges file. Again a csv, the bridges data set can be read in using pd.read_csv. Like for the playing fields data set, we will need to make a dictionary for the bridges data set to help use later."
   ]
  },
  {
   "cell_type": "code",
   "execution_count": 25,
   "metadata": {},
   "outputs": [],
   "source": [
    "import pandas as pd\n",
    "from matplotlib import pyplot as plt\n",
    "\n",
    "dataPlayingFields = pd.read_csv('https://data.wprdc.org/datastore/dump/6af89346-b971-41d5-af09-49cfdb4dfe23')\n",
    "\n",
    "# make dictionary\n",
    "dataPlayingFields_dict = dict()\n",
    "\n",
    "dataBridges = pd.read_csv('https://data.wprdc.org/datastore/dump/23f675e5-f745-49c1-8fa0-c5bc35c25184')\n",
    "\n",
    "# make dictionary\n",
    "dataBridges_dict = dict()"
   ]
  },
  {
   "cell_type": "markdown",
   "metadata": {},
   "source": [
    "Next lets go through the datframe for playing fields and make a new item whenever it is a new neighborhood, and if the neighborhood is already in the dictionary, we will just add one to the total of the item. This takes something that looks like this:\n",
    "\n",
    "* East Hills 1\n",
    "* Troy Hill 1\n",
    "* Homewood South 1\n",
    "* Central Oakland 1\n",
    "* Troy Hill 1\n",
    "* Troy Hill 1\n",
    "\n",
    "and turns it into\n",
    "\n",
    "* East Hills 1\n",
    "* Homewood South 1\n",
    "* Central Oakland 1\n",
    "* Troy Hill 3\n",
    "\n",
    "The data is now easier to understand and to chart."
   ]
  },
  {
   "cell_type": "code",
   "execution_count": 26,
   "metadata": {},
   "outputs": [],
   "source": [
    "# iterate through the dataframe\n",
    "for i in range(len(dataPlayingFields)):\n",
    "    # get the item name and quantity\n",
    "    item = dataPlayingFields.loc[i, 'neighborhood']\n",
    "    \n",
    "    if item in dataPlayingFields_dict: # if it's in the dict\n",
    "        dataPlayingFields_dict[item] += 1 # add the quantity to it\n",
    "    else:\n",
    "        dataPlayingFields_dict[item] = 1 # otherwise, set it to the quantity"
   ]
  },
  {
   "cell_type": "markdown",
   "metadata": {},
   "source": [
    "Now we will convert the dictionary back to a series, as series are much eaiser to deal with."
   ]
  },
  {
   "cell_type": "code",
   "execution_count": 27,
   "metadata": {},
   "outputs": [],
   "source": [
    "dataPlayingFields_series = pd.Series(dataPlayingFields_dict, name = \"Fields\")"
   ]
  },
  {
   "cell_type": "markdown",
   "metadata": {},
   "source": [
    "Using the new series we can print out the data, sorting the values and listing them from least to greatest."
   ]
  },
  {
   "cell_type": "code",
   "execution_count": 28,
   "metadata": {},
   "outputs": [
    {
     "data": {
      "text/plain": [
       "Homewood South              1\n",
       "Squirrel Hill North         1\n",
       "Terrace Village             1\n",
       "Perry South                 1\n",
       "Garfield                    1\n",
       "Larimer                     1\n",
       "Fineview                    1\n",
       "Upper Lawrenceville         1\n",
       "East Liberty                1\n",
       "East Hills                  1\n",
       "Arlington                   1\n",
       "Central Oakland             1\n",
       "Spring Garden               1\n",
       "Oakwood                     1\n",
       "Windgap                     1\n",
       "Stanton Heights             1\n",
       "Marshall-Shadeland          1\n",
       "Allentown                   1\n",
       "West End                    1\n",
       "Polish Hill                 1\n",
       "Lincoln Place               1\n",
       "Bedford Dwellings           2\n",
       "Allegheny Center            2\n",
       "Manchester                  2\n",
       "Greenfield                  2\n",
       "Spring Hill-City View       2\n",
       "Westwood                    2\n",
       "Central Lawrenceville       2\n",
       "Elliott                     2\n",
       "Perry North                 2\n",
       "Regent Square               2\n",
       "South Side Flats            2\n",
       "Banksville                  2\n",
       "Lincoln-Lemington-Belmar    2\n",
       "Crafton Heights             2\n",
       "South Oakland               2\n",
       "Beechview                   3\n",
       "Troy Hill                   3\n",
       "Morningside                 3\n",
       "Shadyside                   3\n",
       "Mount Washington            3\n",
       "Beltzhoover                 3\n",
       "Sheraden                    3\n",
       "Highland Park               4\n",
       "Hazelwood                   4\n",
       "Lower Lawrenceville         4\n",
       "Carrick                     5\n",
       "Squirrel Hill South         5\n",
       "Brookline                   6\n",
       "South Side Slopes           6\n",
       "Brighton Heights            7\n",
       "Name: Fields, dtype: int64"
      ]
     },
     "execution_count": 28,
     "metadata": {},
     "output_type": "execute_result"
    }
   ],
   "source": [
    "dataPlayingFields_series.sort_values()[:]"
   ]
  },
  {
   "cell_type": "markdown",
   "metadata": {},
   "source": [
    "That is a lot of neighborhoods! Instead of looking at all of the neighborhoods with at least one playing field, lets look at the 10 neighborhoods with the most playing fields. This will give us a better idea of the contenders at play."
   ]
  },
  {
   "cell_type": "code",
   "execution_count": 29,
   "metadata": {},
   "outputs": [
    {
     "data": {
      "text/plain": [
       "Brighton Heights       7\n",
       "South Side Slopes      6\n",
       "Brookline              6\n",
       "Squirrel Hill South    5\n",
       "Carrick                5\n",
       "Lower Lawrenceville    4\n",
       "Hazelwood              4\n",
       "Highland Park          4\n",
       "Sheraden               3\n",
       "Beltzhoover            3\n",
       "Name: Fields, dtype: int64"
      ]
     },
     "execution_count": 29,
     "metadata": {},
     "output_type": "execute_result"
    }
   ],
   "source": [
    "dataPlayingFields_series.sort_values(ascending=False)[:10]"
   ]
  },
  {
   "cell_type": "markdown",
   "metadata": {},
   "source": [
    "Now that we have a table, lets make a bar graph using plot.bar() to visually represent the data."
   ]
  },
  {
   "cell_type": "code",
   "execution_count": 30,
   "metadata": {},
   "outputs": [
    {
     "data": {
      "text/plain": [
       "Text(0,0.5,'Total amount of playing fields')"
      ]
     },
     "execution_count": 30,
     "metadata": {},
     "output_type": "execute_result"
    },
    {
     "data": {
      "image/png": "[encoded data removed]",
      "text/plain": [
       "<Figure size 432x288 with 1 Axes>"
      ]
     },
     "metadata": {
      "needs_background": "light"
     },
     "output_type": "display_data"
    }
   ],
   "source": [
    "dataPlayingFields_series.sort_values(ascending=False)[:10].plot.bar()\n",
    "plt.title('Playing Fields per Neighborhood')\n",
    "plt.xlabel('Neighborhoods')\n",
    "plt.ylabel('Total amount of playing fields')"
   ]
  },
  {
   "cell_type": "markdown",
   "metadata": {},
   "source": [
    "From the bar graph we can see a general curve in the amount of playing fields per neighborhood. It will be interesting to see if there are any similarities with the next data set, or if they will vary drastically.\n",
    "\n",
    "To do that, lets again use a dictionary to organize the data."
   ]
  },
  {
   "cell_type": "code",
   "execution_count": 31,
   "metadata": {},
   "outputs": [],
   "source": [
    "# iterate through the dataframe\n",
    "for i in range(len(dataBridges)):\n",
    "    # get the item name and quantity\n",
    "    item = dataBridges.loc[i, 'start_neighborhood']\n",
    "    \n",
    "    if item in dataBridges_dict: # if it's in the dict\n",
    "        dataBridges_dict[item] += 1 # add the quantity to it\n",
    "    else:\n",
    "        dataBridges_dict[item] = 1 # otherwise, set it to the quantity"
   ]
  },
  {
   "cell_type": "markdown",
   "metadata": {},
   "source": [
    "Then we will convert the dictionary back into a series."
   ]
  },
  {
   "cell_type": "code",
   "execution_count": 32,
   "metadata": {},
   "outputs": [],
   "source": [
    "dataBridges_series = pd.Series(dataBridges_dict, name = \"Bridges\")"
   ]
  },
  {
   "cell_type": "markdown",
   "metadata": {},
   "source": [
    "And display the values sorted for least to greatest."
   ]
  },
  {
   "cell_type": "code",
   "execution_count": 33,
   "metadata": {},
   "outputs": [
    {
     "data": {
      "text/plain": [
       "Lower Lawrenceville           1\n",
       "Manchester                    1\n",
       "Northview Heights             1\n",
       "Summer Hill                   1\n",
       "Allentown                     1\n",
       "Banksville                    1\n",
       "Beechview                     1\n",
       "Point Breeze North            1\n",
       "Swisshelm Park                1\n",
       "East Liberty                  1\n",
       "Central Northside             1\n",
       "Allegheny West                1\n",
       "Fineview                      1\n",
       "Regent Square                 1\n",
       "Squirrel Hill North           1\n",
       "North Oakland                 1\n",
       "Spring Hill-City View         1\n",
       "Esplen                        1\n",
       "Strip District                1\n",
       "Perry South                   1\n",
       "Bluff                         2\n",
       "Lincoln-Lemington-Belmar      2\n",
       "Windgap                       2\n",
       "Elliott                       2\n",
       "Sheraden                      2\n",
       "Brighton Heights              2\n",
       "Highland Park                 2\n",
       "South Shore                   2\n",
       "Arlington                     2\n",
       "Marshall-Shadeland            2\n",
       "Brookline                     2\n",
       "Mount Washington              2\n",
       "South Side Slopes             3\n",
       "Bon Air                       3\n",
       "Greenfield                    3\n",
       "Larimer                       3\n",
       "Polish Hill                   3\n",
       "Bloomfield                    3\n",
       "Allegheny Center              4\n",
       "South Oakland                 4\n",
       "East Allegheny                4\n",
       "West End                      4\n",
       "Overbrook                     4\n",
       "Oakwood                       5\n",
       "Hazelwood                     5\n",
       "Hays                          5\n",
       "Shadyside                     7\n",
       "Central Business District     7\n",
       "Troy Hill                     8\n",
       "South Side Flats              8\n",
       "Squirrel Hill South          16\n",
       "Name: Bridges, dtype: int64"
      ]
     },
     "execution_count": 33,
     "metadata": {},
     "output_type": "execute_result"
    }
   ],
   "source": [
    "dataBridges_series.sort_values()[:]"
   ]
  },
  {
   "cell_type": "markdown",
   "metadata": {},
   "source": [
    "This is a fair bit of data. For now lets just focus on the top 10."
   ]
  },
  {
   "cell_type": "code",
   "execution_count": 34,
   "metadata": {},
   "outputs": [
    {
     "data": {
      "text/plain": [
       "Squirrel Hill South          16\n",
       "South Side Flats              8\n",
       "Troy Hill                     8\n",
       "Central Business District     7\n",
       "Shadyside                     7\n",
       "Hays                          5\n",
       "Hazelwood                     5\n",
       "Oakwood                       5\n",
       "Overbrook                     4\n",
       "West End                      4\n",
       "Name: Bridges, dtype: int64"
      ]
     },
     "execution_count": 34,
     "metadata": {},
     "output_type": "execute_result"
    }
   ],
   "source": [
    "dataBridges_series.sort_values(ascending=False)[:10]"
   ]
  },
  {
   "cell_type": "markdown",
   "metadata": {},
   "source": [
    "We have a chart, so lets make a bar graph!"
   ]
  },
  {
   "cell_type": "code",
   "execution_count": 35,
   "metadata": {},
   "outputs": [
    {
     "data": {
      "text/plain": [
       "Text(0,0.5,'Total amount of bridges')"
      ]
     },
     "execution_count": 35,
     "metadata": {},
     "output_type": "execute_result"
    },
    {
     "data": {
      "image/png": "[encoded data removed]",
      "text/plain": [
       "<Figure size 432x288 with 1 Axes>"
      ]
     },
     "metadata": {
      "needs_background": "light"
     },
     "output_type": "display_data"
    }
   ],
   "source": [
    "dataBridges_series.sort_values(ascending=False)[:10].plot.bar()\n",
    "plt.title('Bridges per Neighborhood')\n",
    "plt.xlabel('Neighborhoods')\n",
    "plt.ylabel('Total amount of bridges')"
   ]
  },
  {
   "cell_type": "markdown",
   "metadata": {},
   "source": [
    "Comparing this data set with the previous one, it is interesting that this is less of a curve. Squirrel Hill South is far ahead of second place, and it seems to tail off rather quickly. This may be due to the geography is Squirrel Hill South as more mountainous regions require more bridges. It could also be because of traffic and pedestrian patterns and Squirrel Hill serves as an outer link to the city. No matter the reason, it is now very appleaing to our group. South Side Flats and Troy Hill are also of interest."
   ]
  },
  {
   "cell_type": "markdown",
   "metadata": {},
   "source": [
    "Now lets combine our two data sets together to get closer to our final results. We will call this new dictionary final_dict."
   ]
  },
  {
   "cell_type": "code",
   "execution_count": 36,
   "metadata": {},
   "outputs": [],
   "source": [
    "final_dict = dict()\n",
    "\n",
    "# iterate through the dataframe\n",
    "for i in range(len(dataBridges)):\n",
    "    # get the item name and quantity\n",
    "    item = dataBridges.loc[i, 'start_neighborhood']\n",
    "    \n",
    "    if item in final_dict: # if it's in the dict\n",
    "        final_dict[item] += 1 # add the quantity to it\n",
    "    else:\n",
    "        final_dict[item] = 1 # otherwise, set it to the quantity\n",
    "\n",
    "# iterate through the dataframe\n",
    "for i in range(len(dataPlayingFields)):\n",
    "    # get the item name and quantity\n",
    "    item = dataPlayingFields.loc[i, 'neighborhood']\n",
    "    \n",
    "    if item in final_dict: # if it's in the dict\n",
    "        final_dict[item] += 1 # add the quantity to it\n",
    "    else:\n",
    "        final_dict[item] = 1 # otherwise, set it to the quantity"
   ]
  },
  {
   "cell_type": "markdown",
   "metadata": {},
   "source": [
    "After combining the two dictionaries, we need to convert it back into a series. Lets call it final_series."
   ]
  },
  {
   "cell_type": "code",
   "execution_count": 37,
   "metadata": {},
   "outputs": [],
   "source": [
    "final_series = pd.Series(final_dict, name = \"Data\")"
   ]
  },
  {
   "cell_type": "markdown",
   "metadata": {},
   "source": [
    "Using the series we can print out the values for each neigborhood. Lets sort it and then print out the data."
   ]
  },
  {
   "cell_type": "code",
   "execution_count": 38,
   "metadata": {},
   "outputs": [
    {
     "data": {
      "text/plain": [
       "Homewood South                1\n",
       "North Oakland                 1\n",
       "Allegheny West                1\n",
       "Central Northside             1\n",
       "Swisshelm Park                1\n",
       "Point Breeze North            1\n",
       "Northview Heights             1\n",
       "East Hills                    1\n",
       "Upper Lawrenceville           1\n",
       "Garfield                      1\n",
       "Terrace Village               1\n",
       "Summer Hill                   1\n",
       "Esplen                        1\n",
       "Strip District                1\n",
       "Stanton Heights               1\n",
       "Spring Garden                 1\n",
       "Lincoln Place                 1\n",
       "Central Oakland               1\n",
       "South Shore                   2\n",
       "Perry South                   2\n",
       "Crafton Heights               2\n",
       "Fineview                      2\n",
       "Westwood                      2\n",
       "Allentown                     2\n",
       "Bluff                         2\n",
       "Squirrel Hill North           2\n",
       "Bedford Dwellings             2\n",
       "East Liberty                  2\n",
       "Central Lawrenceville         2\n",
       "Perry North                   2\n",
       "                             ..\n",
       "Arlington                     3\n",
       "Regent Square                 3\n",
       "Bloomfield                    3\n",
       "Overbrook                     4\n",
       "Elliott                       4\n",
       "Larimer                       4\n",
       "Polish Hill                   4\n",
       "Beechview                     4\n",
       "Lincoln-Lemington-Belmar      4\n",
       "East Allegheny                4\n",
       "Carrick                       5\n",
       "Lower Lawrenceville           5\n",
       "Hays                          5\n",
       "West End                      5\n",
       "Mount Washington              5\n",
       "Sheraden                      5\n",
       "Greenfield                    5\n",
       "Allegheny Center              6\n",
       "Oakwood                       6\n",
       "South Oakland                 6\n",
       "Highland Park                 6\n",
       "Central Business District     7\n",
       "Brookline                     8\n",
       "Hazelwood                     9\n",
       "Brighton Heights              9\n",
       "South Side Slopes             9\n",
       "Shadyside                    10\n",
       "South Side Flats             10\n",
       "Troy Hill                    11\n",
       "Squirrel Hill South          21\n",
       "Name: Data, Length: 68, dtype: int64"
      ]
     },
     "execution_count": 38,
     "metadata": {},
     "output_type": "execute_result"
    }
   ],
   "source": [
    "final_series.sort_values()[:]"
   ]
  },
  {
   "cell_type": "markdown",
   "metadata": {},
   "source": [
    "This is exciting! We now have a sorted list of the data we need. Before looking at the best neighborhoods, lets look at the worst to know which ones to avoid."
   ]
  },
  {
   "cell_type": "code",
   "execution_count": 39,
   "metadata": {},
   "outputs": [
    {
     "data": {
      "text/plain": [
       "Lower Lawrenceville      1\n",
       "Manchester               1\n",
       "Northview Heights        1\n",
       "Summer Hill              1\n",
       "Allentown                1\n",
       "Banksville               1\n",
       "Beechview                1\n",
       "Point Breeze North       1\n",
       "Swisshelm Park           1\n",
       "East Liberty             1\n",
       "Central Northside        1\n",
       "Allegheny West           1\n",
       "Fineview                 1\n",
       "Regent Square            1\n",
       "Squirrel Hill North      1\n",
       "North Oakland            1\n",
       "Spring Hill-City View    1\n",
       "Esplen                   1\n",
       "Strip District           1\n",
       "Perry South              1\n",
       "Name: Bridges, dtype: int64"
      ]
     },
     "execution_count": 39,
     "metadata": {},
     "output_type": "execute_result"
    }
   ],
   "source": [
    "dataBridges_series.sort_values(ascending=True)[:20]"
   ]
  },
  {
   "cell_type": "markdown",
   "metadata": {},
   "source": [
    "It is interesting to see the Squirrel Hill North is tied for last on the list, as it is the winner of many other groups' projects. Upon further investigation we can find the Squirrel Hill North has one playing field and zero bridges, explaining its lack of a strong presence in our standings."
   ]
  },
  {
   "cell_type": "markdown",
   "metadata": {},
   "source": [
    "Now that we know which neighborhoods to avoid, lets look for the neighbors to consider."
   ]
  },
  {
   "cell_type": "code",
   "execution_count": 40,
   "metadata": {},
   "outputs": [
    {
     "data": {
      "text/plain": [
       "Squirrel Hill South          21\n",
       "Troy Hill                    11\n",
       "South Side Flats             10\n",
       "Shadyside                    10\n",
       "South Side Slopes             9\n",
       "Brighton Heights              9\n",
       "Hazelwood                     9\n",
       "Brookline                     8\n",
       "Central Business District     7\n",
       "Highland Park                 6\n",
       "Name: Data, dtype: int64"
      ]
     },
     "execution_count": 40,
     "metadata": {},
     "output_type": "execute_result"
    }
   ],
   "source": [
    "final_series.sort_values(ascending=False)[:10]"
   ]
  },
  {
   "cell_type": "code",
   "execution_count": 41,
   "metadata": {},
   "outputs": [
    {
     "data": {
      "text/plain": [
       "Text(0,0.5,'Communist Rating')"
      ]
     },
     "execution_count": 41,
     "metadata": {},
     "output_type": "execute_result"
    },
    {
     "data": {
      "image/png": "[encoded data removed]",
      "text/plain": [
       "<Figure size 432x288 with 1 Axes>"
      ]
     },
     "metadata": {
      "needs_background": "light"
     },
     "output_type": "display_data"
    }
   ],
   "source": [
    "dataBridges_series.sort_values(ascending=False)[:10].plot.bar()\n",
    "plt.title('Communist Rating per Neighborhood')\n",
    "plt.xlabel('Neighborhoods')\n",
    "plt.ylabel('Communist Rating')"
   ]
  },
  {
   "cell_type": "markdown",
   "metadata": {},
   "source": [
    "# The Winner: Squirrel Hill South\n",
    "When it came down to the finish line, Squirrel Hill South won by a landslide. Beating out second place South Side Flats and Troy Hill, there was never a real contest. The perfect combination of bridges and playing fields, Squirrel Hill offers the most communist infrastructure opportunities in Pittsburgh.\n",
    "\n",
    "Other neighborhoods to consider:\n",
    "\n",
    "* South Side Flats\n",
    "* Troy Hill\n",
    "* Central Business District\n",
    "* Shadyside\n",
    "* Hays\n",
    "* Hazelwood\n",
    "* Oakwood\n",
    "* Overbrook\n",
    "* West End"
   ]
  },
  {
   "cell_type": "markdown",
   "metadata": {},
   "source": [
    "![Alt Text](https://live.staticflickr.com/8245/8664229816_1c745d8c33_b.jpg)"
   ]
  }
 ],
 "metadata": {
  "kernelspec": {
   "display_name": "Python 3.7",
   "language": "python",
   "name": "python3"
  },
  "language_info": {
   "codemirror_mode": {
    "name": "ipython",
    "version": 3
   },
   "file_extension": ".py",
   "mimetype": "text/x-python",
   "name": "python",
   "nbconvert_exporter": "python",
   "pygments_lexer": "ipython3",
   "version": "3.7.0"
  }
 },
 "nbformat": 4,
 "nbformat_minor": 4
}
